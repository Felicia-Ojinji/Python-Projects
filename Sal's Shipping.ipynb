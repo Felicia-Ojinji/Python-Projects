{
 "cells": [
  {
   "cell_type": "code",
   "execution_count": 43,
   "metadata": {},
   "outputs": [
    {
     "name": "stdout",
     "output_type": "stream",
     "text": [
      "It costs 22.25 to use Ground Shipping\n",
      "It costs 6.75 to use Drone Shipping\n",
      "Premium Ground Shippping is the Cheapest\n",
      "It will cost 125$ to ship a package of  41.5 pounds\n"
     ]
    }
   ],
   "source": [
    "#1. FINDING THE CHEAPEST SHIPPING METHOD\n",
    "\n",
    "# This fuction calculates the cost of ground shipping... using wieght  as input\n",
    "\n",
    "Premium_Ground_Shipping = 125\n",
    "Flat_charge = 20\n",
    "\n",
    "def Ground_Shiping_Cost(weight):\n",
    "    if weight <= 2:\n",
    "        cost = (weight * 1.5) + Flat_charge\n",
    "    elif weight <=6: \n",
    "        cost = (weight * 3.0) + Flat_charge\n",
    "    elif weight <=10:\n",
    "        cost = (weight * 4.0) + Flat_charge\n",
    "    else:\n",
    "        cost = (weight * 4.75) + Flat_charge\n",
    "        \n",
    "    return cost\n",
    "GroundShippingCost =  Ground_Shiping_Cost(1.5)\n",
    "print(\"It costs \" + str(GroundShippingCost) +\" to use Ground Shipping\")\n",
    "\n",
    "# This fuction calculates the cost of drone shipping... using wieght as input\n",
    "\n",
    "Flat_charge = 0\n",
    "def Drone_Shiping_Cost(weight):\n",
    "    if weight <= 2:\n",
    "        cost = (weight * 4.5) + Flat_charge\n",
    "    elif weight <=6: \n",
    "        cost = (weight * 9.0) + Flat_charge\n",
    "    elif weight <=10:\n",
    "        cost = (weight * 12.0) + Flat_charge\n",
    "    else:\n",
    "        cost = (weight * 14.25) + Flat_charge\n",
    "        \n",
    "    return cost\n",
    "DroneShippingCost =  Drone_Shiping_Cost(1.5)\n",
    "print(\"It costs \" + str(DroneShippingCost) +\" to use Drone Shipping\")\n",
    "\n",
    "# This fuction checks for the cheapest shipping method\n",
    "\n",
    "def Cheapest_Shipping_method(weight):\n",
    "    if Ground_Shiping_Cost(weight) < (Drone_Shiping_Cost(weight) and Premium_Ground_Shipping):\n",
    "        return Ground_Shipping_Cost(weight)\n",
    "        print( \"Ground Shipping Method is the cheapest\")\n",
    "        print(\"It will cost \" + str(Ground_Shiping_Cost(weight)) + \"$\" + \" to ship a package of  \" + str(weight) + \" pounds\" )\n",
    "       \n",
    "    \n",
    "    elif Drone_Shiping_Cost(weight) < (Ground_Shiping_Cost(weight) and Premium_Ground_Shipping):\n",
    "        print(\"Drone Shipping method is the cheapest\")\n",
    "        print(\"It will cost \" + str(Drone_Shiping_Cost(weight)) + \"$\" + \" to ship a package of  \" + str(weight) + \" pounds\" )\n",
    "     \n",
    "    else:\n",
    "        print(\"Premium Ground Shippping is the Cheapest\")\n",
    "        print(\"It will cost \" + str(Premium_Ground_Shipping) + \"$\" + \" to ship a package of  \" + str(weight) + \" pounds\" )\n",
    "Cheapest_Shipping_method(41.5)"
   ]
  },
  {
   "cell_type": "code",
   "execution_count": null,
   "metadata": {},
   "outputs": [],
   "source": []
  },
  {
   "cell_type": "code",
   "execution_count": null,
   "metadata": {},
   "outputs": [],
   "source": []
  }
 ],
 "metadata": {
  "kernelspec": {
   "display_name": "Python 3",
   "language": "python",
   "name": "python3"
  },
  "language_info": {
   "codemirror_mode": {
    "name": "ipython",
    "version": 3
   },
   "file_extension": ".py",
   "mimetype": "text/x-python",
   "name": "python",
   "nbconvert_exporter": "python",
   "pygments_lexer": "ipython3",
   "version": "3.7.7"
  }
 },
 "nbformat": 4,
 "nbformat_minor": 4
}
